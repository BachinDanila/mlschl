{
 "cells": [
  {
   "cell_type": "markdown",
   "metadata": {},
   "source": [
    "# Школа машинного обучения\n",
    "\n",
    "<a href=\"https://mipt.ru/science/labs/laboratoriya-neyronnykh-sistem-i-glubokogo-obucheniya/\"><img align=\"right\" src=\"https://avatars1.githubusercontent.com/u/29918795?v=4&s=200\" alt=\"DeepHackLab\" style=\"position:relative;top:-40px;right:10px;height:100px;\" /></a>\n",
    "\n",
    "\n",
    "\n",
    "### Физтех-Школа Прикладной математики и информатики МФТИ \n",
    "### Лаборатория нейронных сетей и глубокого обучения (DeepHackLab)  \n"
   ]
  },
  {
   "cell_type": "markdown",
   "metadata": {},
   "source": [
    "## Домашнее задание 1\n",
    "### Основы Python и пакет NumPy\n",
    "---\n"
   ]
  },
  {
   "cell_type": "code",
   "execution_count": 8,
   "metadata": {
    "collapsed": true
   },
   "outputs": [],
   "source": [
    "import numpy as np\n",
    "import random\n",
    "import scipy.stats as sps"
   ]
  },
  {
   "cell_type": "markdown",
   "metadata": {},
   "source": [
    "### Задача 1\n",
    "В первой задаче вам предлагается перемножить две квадратные матрицы двумя способами -- без использования пакета ***numpy*** и с ним."
   ]
  },
  {
   "cell_type": "code",
   "execution_count": 9,
   "metadata": {
    "collapsed": false
   },
   "outputs": [
    {
     "name": "stdout",
     "output_type": "stream",
     "text": [
      "\t   Matrix a \n",
      "Grade: 2\n",
      "Shape: 10x10\n",
      "[[36 33  9 12 34 27  3 25 34 36]\n",
      " [11  6 40 10 33 30 14 37 19 26]\n",
      " [34 16 12 20 16 36 39 10 25 27]\n",
      " [ 1 19  6  0 34 24 32 20 27 21]\n",
      " [ 4  3 37 16  2 35  3 28 13 39]\n",
      " [13 23 12 29 14 11 36 15 11  7]\n",
      " [ 1  7 36 28 14 20 19  8 30 40]\n",
      " [14 34 26 21 38 13 17 34 15 19]\n",
      " [29 34 12 27 15 30 10  7 35 10]\n",
      " [37 39  3 16 33  5  8  7  5 14]]\n",
      "\t   Matrix b \n",
      "Grade: 2\n",
      "Shape: 10x10\n",
      "[[24 16 19 24 37 39 34 36  7 28]\n",
      " [22  8 16 19 29 29 21 36 13 24]\n",
      " [21 16 16 16 36  4 30 13 32 30]\n",
      " [ 4 18 13 17 30 13 39 41  6  6]\n",
      " [21 30  0 14 19 24 32 30 17 34]\n",
      " [38  2 15 25 25  1  9 14 24 36]\n",
      " [ 1 11  2  3 32 16 36 22  0 15]\n",
      " [33 21 26 30 21 17  8 34 40  3]\n",
      " [18 27 41 18 31 39 14 13 28 14]\n",
      " [ 2 26  5 18 39  1 34 26  7 12]]\n"
     ]
    },
    {
     "ename": "NameError",
     "evalue": "name 'mult' is not defined",
     "output_type": "error",
     "traceback": [
      "\u001b[0;31m---------------------------------------------------------------------------\u001b[0m",
      "\u001b[0;31mNameError\u001b[0m                                 Traceback (most recent call last)",
      "\u001b[0;32m<ipython-input-9-fb81fd58f699>\u001b[0m in \u001b[0;36m<module>\u001b[0;34m()\u001b[0m\n\u001b[1;32m      8\u001b[0m \u001b[0mprint\u001b[0m\u001b[1;33m(\u001b[0m\u001b[1;34m'\\t   Matrix b \\nGrade: {0}\\nShape: {1}x{2}'\u001b[0m\u001b[1;33m.\u001b[0m\u001b[0mformat\u001b[0m\u001b[1;33m(\u001b[0m\u001b[0mb\u001b[0m\u001b[1;33m.\u001b[0m\u001b[0mndim\u001b[0m\u001b[1;33m,\u001b[0m\u001b[0mb\u001b[0m\u001b[1;33m.\u001b[0m\u001b[0mshape\u001b[0m\u001b[1;33m[\u001b[0m\u001b[1;36m0\u001b[0m\u001b[1;33m]\u001b[0m\u001b[1;33m,\u001b[0m\u001b[0mb\u001b[0m\u001b[1;33m.\u001b[0m\u001b[0mshape\u001b[0m\u001b[1;33m[\u001b[0m\u001b[1;36m1\u001b[0m\u001b[1;33m]\u001b[0m\u001b[1;33m)\u001b[0m\u001b[1;33m)\u001b[0m\u001b[1;33m\u001b[0m\u001b[0m\n\u001b[1;32m      9\u001b[0m \u001b[0mprint\u001b[0m\u001b[1;33m(\u001b[0m\u001b[0mb\u001b[0m\u001b[1;33m)\u001b[0m\u001b[1;33m\u001b[0m\u001b[0m\n\u001b[0;32m---> 10\u001b[0;31m \u001b[0mc\u001b[0m \u001b[1;33m=\u001b[0m \u001b[0mmult\u001b[0m\u001b[1;33m(\u001b[0m\u001b[0ma\u001b[0m\u001b[1;33m,\u001b[0m\u001b[0mb\u001b[0m\u001b[1;33m)\u001b[0m\u001b[1;33m\u001b[0m\u001b[0m\n\u001b[0m\u001b[1;32m     11\u001b[0m \u001b[0mprint\u001b[0m\u001b[1;33m(\u001b[0m\u001b[1;34m'\\tMatrix c(without numpy) \\nGrade: {0}\\nShape: {1}x{2}'\u001b[0m\u001b[1;33m.\u001b[0m\u001b[0mformat\u001b[0m\u001b[1;33m(\u001b[0m\u001b[0mc\u001b[0m\u001b[1;33m.\u001b[0m\u001b[0mndim\u001b[0m\u001b[1;33m,\u001b[0m\u001b[0mc\u001b[0m\u001b[1;33m.\u001b[0m\u001b[0mshape\u001b[0m\u001b[1;33m[\u001b[0m\u001b[1;36m0\u001b[0m\u001b[1;33m]\u001b[0m\u001b[1;33m,\u001b[0m\u001b[0mc\u001b[0m\u001b[1;33m.\u001b[0m\u001b[0mshape\u001b[0m\u001b[1;33m[\u001b[0m\u001b[1;36m1\u001b[0m\u001b[1;33m]\u001b[0m\u001b[1;33m)\u001b[0m\u001b[1;33m)\u001b[0m\u001b[1;33m\u001b[0m\u001b[0m\n\u001b[1;32m     12\u001b[0m \u001b[0mprint\u001b[0m\u001b[1;33m(\u001b[0m\u001b[0mc\u001b[0m\u001b[1;33m)\u001b[0m\u001b[1;33m\u001b[0m\u001b[0m\n",
      "\u001b[0;31mNameError\u001b[0m: name 'mult' is not defined"
     ]
    }
   ],
   "source": [
    "# Для генерации матриц используем фукнцию random -- она используется для генерации случайных объектов \n",
    "# функция sample создает случайную выборку. В качестве аргумента ей передается кортеж (i,j), здесь i -- число строк,\n",
    "# j -- число столбцов.\n",
    "a = np.random.randint(0,42,(10,10))\n",
    "b = np.random.randint(0,42,(10,10))\n",
    "print('\\t   Matrix a \\nGrade: {0}\\nShape: {1}x{2}'.format(a.ndim,a.shape[0],a.shape[1]))\n",
    "print(a)\n",
    "print('\\t   Matrix b \\nGrade: {0}\\nShape: {1}x{2}'.format(b.ndim,b.shape[0],b.shape[1]))\n",
    "print(b)\n",
    "c = mult(a,b)\n",
    "print('\\tMatrix c(without numpy) \\nGrade: {0}\\nShape: {1}x{2}'.format(c.ndim,c.shape[0],c.shape[1]))\n",
    "print(c)\n",
    "c_np = np_mult(a,b)\n",
    "print('\\tMatrix c(with numpy) \\nGrade: {0}\\nShape: {1}x{2}'.format(c_np.ndim,c_np.shape[0],c_np.shape[1]))\n",
    "print(c_np)"
   ]
  },
  {
   "cell_type": "code",
   "execution_count": 10,
   "metadata": {
    "collapsed": false
   },
   "outputs": [],
   "source": [
    "def mult(a, b):\n",
    "    # здесь напишите перемножение матриц без \n",
    "    # использования NumPy и выведите результат \n",
    "    c = []\n",
    "    d = []\n",
    "    s = 0\n",
    "    for i in range(len(a)):            #Цикл по строкам 1й матрицы\n",
    "        for j in range(len(b[0])):     #по столбцам 2й матрицы\n",
    "            for k in range(len(a[0])): #по столбцам 1й матрицы\n",
    "                s += a[i][k] * b[k][j]\n",
    "            d.append(s)\n",
    "            s = 0\n",
    "        c.append(d)\n",
    "        d = []\n",
    "    return np.array(c)"
   ]
  },
  {
   "cell_type": "code",
   "execution_count": 11,
   "metadata": {
    "collapsed": true
   },
   "outputs": [],
   "source": [
    "def np_mult(a, b):\n",
    "    c = np.dot(a,b)\n",
    "    return c"
   ]
  },
  {
   "cell_type": "code",
   "execution_count": 12,
   "metadata": {
    "collapsed": false
   },
   "outputs": [
    {
     "name": "stdout",
     "output_type": "stream",
     "text": [
      "Wall time: 1 ms\n"
     ]
    },
    {
     "data": {
      "text/plain": [
       "array([[5079, 4686, 4147, 5009, 7373, 5231, 5994, 6785, 4471, 5298],\n",
       "       [4738, 4214, 3424, 4362, 6526, 3335, 5366, 5441, 4970, 4813],\n",
       "       [4077, 3792, 3392, 4129, 7244, 4314, 6220, 5985, 3375, 4945],\n",
       "       [3414, 3379, 2575, 3117, 5150, 3380, 4321, 4435, 3303, 3854],\n",
       "       [3614, 3084, 2911, 3705, 5568, 1752, 4152, 4140, 3978, 3497],\n",
       "       [2641, 2738, 2297, 2787, 5072, 3213, 4771, 4842, 2407, 3145],\n",
       "       [3003, 3839, 3047, 3462, 6408, 2756, 5509, 4724, 3576, 3849],\n",
       "       [4453, 4256, 3322, 4295, 6581, 4288, 5862, 6468, 4369, 4669],\n",
       "       [4150, 3386, 3775, 4003, 6278, 4560, 5109, 5574, 3496, 4521],\n",
       "       [3113, 2974, 2131, 3112, 4944, 4047, 4782, 5334, 2157, 3839]])"
      ]
     },
     "execution_count": 12,
     "metadata": {},
     "output_type": "execute_result"
    }
   ],
   "source": [
    "%%time\n",
    "# засечем время работы функции без NumPy\n",
    "mult(a,b)"
   ]
  },
  {
   "cell_type": "code",
   "execution_count": 13,
   "metadata": {
    "collapsed": false
   },
   "outputs": [
    {
     "name": "stdout",
     "output_type": "stream",
     "text": [
      "Wall time: 0 ns\n"
     ]
    },
    {
     "data": {
      "text/plain": [
       "array([[5079, 4686, 4147, 5009, 7373, 5231, 5994, 6785, 4471, 5298],\n",
       "       [4738, 4214, 3424, 4362, 6526, 3335, 5366, 5441, 4970, 4813],\n",
       "       [4077, 3792, 3392, 4129, 7244, 4314, 6220, 5985, 3375, 4945],\n",
       "       [3414, 3379, 2575, 3117, 5150, 3380, 4321, 4435, 3303, 3854],\n",
       "       [3614, 3084, 2911, 3705, 5568, 1752, 4152, 4140, 3978, 3497],\n",
       "       [2641, 2738, 2297, 2787, 5072, 3213, 4771, 4842, 2407, 3145],\n",
       "       [3003, 3839, 3047, 3462, 6408, 2756, 5509, 4724, 3576, 3849],\n",
       "       [4453, 4256, 3322, 4295, 6581, 4288, 5862, 6468, 4369, 4669],\n",
       "       [4150, 3386, 3775, 4003, 6278, 4560, 5109, 5574, 3496, 4521],\n",
       "       [3113, 2974, 2131, 3112, 4944, 4047, 4782, 5334, 2157, 3839]])"
      ]
     },
     "execution_count": 13,
     "metadata": {},
     "output_type": "execute_result"
    }
   ],
   "source": [
    "%%time\n",
    "# засечем время работы функции с NumPy\n",
    "np_mult(a,b)"
   ]
  },
  {
   "cell_type": "markdown",
   "metadata": {},
   "source": [
    "### Задача 2\n",
    "Напишите функцию, которая по данной последовательности $\\{A_i\\}_{i=1}^n$ строит последовательность $S_n$, где $S_k = \\frac{A_1 + ... + A_k}{k}$.  \n",
    "Аналогично -- с помощью библиотеки **NumPy** и без нее. Сравните скорость, объясните результат."
   ]
  },
  {
   "cell_type": "code",
   "execution_count": 14,
   "metadata": {
    "collapsed": true
   },
   "outputs": [],
   "source": [
    "# функция, решающая задачу с помощью NumPy\n",
    "def sec_av(A):\n",
    "    # Ваш код здесь\n",
    "    pass"
   ]
  },
  {
   "cell_type": "code",
   "execution_count": 6,
   "metadata": {
    "collapsed": false
   },
   "outputs": [
    {
     "name": "stdout",
     "output_type": "stream",
     "text": [
      "Wall time: 0 ns\n",
      "[ 0.15342256  0.40427975  0.50292731 ...,  0.74688922  0.38804093\n",
      "  0.47422179]\n",
      "_________________________________________________________________________________________\n",
      "None\n"
     ]
    }
   ],
   "source": [
    "# функция без NumPy\n",
    "def stupid_sec_av(A):\n",
    "    n = 0\n",
    "    s = [0 for i in range(len(A))]\n",
    "    for i in range(1,len(A)):\n",
    "        s[i] += s[i-1] + s[i]/i\n",
    "    return s\n",
    "\n",
    "# зададим некоторую последовательность и проверим ее на ваших функциях. \n",
    "# Первая функция должна работать ~ в 50 раз быстрее\n",
    "A = sps.uniform.rvs(size=10 ** 7)\n",
    "%time S1 = sec_av(A)\n",
    "%time S2 = stupid_sec_av(A)\n",
    "#проверим корректность:\n",
    "#np.abs(S1 - S2).sum()"
   ]
  },
  {
   "cell_type": "markdown",
   "metadata": {},
   "source": [
    "### Задача 3\n",
    "\n",
    "Пусть задан некоторый массив $X$. Надо построить новый массив, где все элементы с нечетными индексами требуется заменить на число $a$ (если оно не указано, то на 1). Все четные элементы исходного массива нужно возвести в куб и записать в обратном порядке относительно позиций этих элементов. Массив $X$ при этом должен остаться без изменений. В конце требуется слить массив X с преобразованным X и вывести в обратном порядке. "
   ]
  },
  {
   "cell_type": "code",
   "execution_count": null,
   "metadata": {
    "collapsed": true
   },
   "outputs": [],
   "source": [
    "# функция, решающая задачу с помощью NumPy\n",
    "def transformation(X, a=1):\n",
    "    # Ваш код здесь\n",
    "    return Y"
   ]
  },
  {
   "cell_type": "code",
   "execution_count": null,
   "metadata": {
    "collapsed": true
   },
   "outputs": [],
   "source": [
    "# функция, решающая задачу  без NumPy\n",
    "def stupid_transformation(X):\n",
    "    # Ваш код здесь\n",
    "    return Y"
   ]
  },
  {
   "cell_type": "code",
   "execution_count": null,
   "metadata": {
    "collapsed": true
   },
   "outputs": [],
   "source": [
    "X = sps.uniform.rvs(size=10 ** 7) \n",
    "# здесь код эффективнее примерно в 20 раз. \n",
    "# если Вы вдруг соберетесь печатать массив без np -- лучше сначала посмотрите на его размер\n",
    "%time S1 = transformation(X)\n",
    "%time S2 = stupid_transformation(X)\n",
    "# проверим корректность:\n",
    "np.abs(S1 - S2).sum()"
   ]
  },
  {
   "cell_type": "markdown",
   "metadata": {},
   "source": [
    "Почему методы ***numpy*** оказываются эффективнее?"
   ]
  },
  {
   "cell_type": "code",
   "execution_count": null,
   "metadata": {
    "collapsed": true
   },
   "outputs": [],
   "source": [
    "# Ваш ответ"
   ]
  },
  {
   "cell_type": "markdown",
   "metadata": {},
   "source": [
    "## Дополнительные задачи"
   ]
  },
  {
   "cell_type": "markdown",
   "metadata": {},
   "source": [
    "Дополнительные задачи подразумевают, что Вы самостоятельно разберётесь в некоторых функциях ***numpy***, чтобы их сделать.  \n",
    "\n",
    "Эти задачи не являются обязательными, но могут повлиять на Ваш рейтинг в лучшую сторону (точные правила учёта доп. задач будут оглашены позже)."
   ]
  },
  {
   "cell_type": "markdown",
   "metadata": {},
   "source": [
    "### Задача 4*"
   ]
  },
  {
   "cell_type": "markdown",
   "metadata": {},
   "source": [
    "Дана функция двух переменных: $f(x, y) = sin(x)cos(y)$ (это просто такой красивый 3D-график), а также дана функция для отрисовки $f(x, y)$ (`draw_f()`), которая принимает на вход двумерную сетку, на которой будет вычисляться функция.  \n",
    "\n",
    "Вам нужно разобраться в том, как строить такие сетки (подсказка - это одна конкретная функция ***numpy***), и подать такую сетку на вход функции отрисовки."
   ]
  },
  {
   "cell_type": "code",
   "execution_count": null,
   "metadata": {
    "collapsed": true
   },
   "outputs": [],
   "source": [
    "from matplotlib import pyplot as plt\n",
    "from mpl_toolkits.mplot3d import Axes3D\n",
    "%matplotlib inline\n",
    "\n",
    "def f(x, y):\n",
    "    '''Функция двух переменных'''\n",
    "    return np.sin(x) * np.cos(y)\n",
    "\n",
    "def draw_f(grid_x, grid_y):\n",
    "    '''Функция отрисовки функции f(x, y)'''\n",
    "    fig = plt.figure(figsize=(10, 8))\n",
    "    ax = Axes3D(fig)\n",
    "    ax.plot_surface(grid_x, grid_y, f(grid_x, grid_y), cmap='inferno')\n",
    "    plt.show()"
   ]
  },
  {
   "cell_type": "code",
   "execution_count": null,
   "metadata": {
    "collapsed": true
   },
   "outputs": [],
   "source": [
    "grid_x, grid_y = # Ваш код здесь\n",
    "\n",
    "draw_f(gridx, gridy)"
   ]
  },
  {
   "cell_type": "markdown",
   "metadata": {},
   "source": [
    "### Задача 5*"
   ]
  },
  {
   "cell_type": "markdown",
   "metadata": {},
   "source": [
    "Вам дана картинка. При загрузке её размерность равна 3: **(w, h, num_channels)**, где **w** - ширина картинки в пикселях, **h** - высота картинки в пикселях, **num_channels** - количество каналов *(R, G, B, alpha)*.\n",
    "\n",
    "Вам нужно \"развернуть\" картинку в одномерный массив размера w \\* h \\* num_channels, написав **одну строку кода**."
   ]
  },
  {
   "cell_type": "code",
   "execution_count": null,
   "metadata": {
    "collapsed": true
   },
   "outputs": [],
   "source": [
    "from matplotlib import pyplot as plt\n",
    "%matplotlib inline"
   ]
  },
  {
   "cell_type": "code",
   "execution_count": null,
   "metadata": {
    "collapsed": true
   },
   "outputs": [],
   "source": [
    "path_to_image = './image.png'\n",
    "image_array = plt.imread(path_to_image)\n",
    "plt.imshow(image_array);"
   ]
  },
  {
   "cell_type": "code",
   "execution_count": null,
   "metadata": {
    "collapsed": true
   },
   "outputs": [],
   "source": [
    "flat_image_array = # Ваш код здесь"
   ]
  },
  {
   "cell_type": "code",
   "execution_count": null,
   "metadata": {
    "collapsed": true
   },
   "outputs": [],
   "source": [
    "# здесь выведите размер нового массива"
   ]
  }
 ],
 "metadata": {
  "anaconda-cloud": {},
  "kernelspec": {
   "display_name": "Python [default]",
   "language": "python",
   "name": "python3"
  },
  "language_info": {
   "codemirror_mode": {
    "name": "ipython",
    "version": 3
   },
   "file_extension": ".py",
   "mimetype": "text/x-python",
   "name": "python",
   "nbconvert_exporter": "python",
   "pygments_lexer": "ipython3",
   "version": "3.5.2"
  }
 },
 "nbformat": 4,
 "nbformat_minor": 2
}
